{
 "cells": [
  {
   "cell_type": "code",
   "execution_count": 4,
   "id": "46848a2f-ac08-44cc-916f-e1d6392cd6b0",
   "metadata": {},
   "outputs": [
    {
     "name": "stdout",
     "output_type": "stream",
     "text": [
      "[2, 3, 5, 7, 11, 13, 17, 19, 23, 29, 31, 37, 41, 43, 47, 53, 59, 61, 67, 71, 73, 79, 83, 89, 97, 101, 103, 107, 109, 113, 127, 131, 137, 139, 149, 151, 157, 163, 167, 173, 179, 181, 191, 193, 197, 199, 211, 223, 227, 229, 233, 239, 241, 251, 257, 263, 269, 271, 277, 281, 283, 293, 307, 311, 313, 317, 331, 337, 347, 349, 353, 359, 367, 373, 379, 383, 389, 397, 401, 409, 419, 421, 431, 433, 439, 443, 449, 457, 461, 463, 467, 479, 487, 491, 499, 503, 509, 521, 523, 541, 547, 557, 563, 569, 571, 577, 587, 593, 599, 601, 607, 613, 617, 619, 631, 641, 643, 647, 653, 659, 661, 673, 677, 683, 691, 701, 709, 719, 727, 733, 739, 743, 751, 757, 761, 769, 773, 787, 797, 809, 811, 821, 823, 827, 829, 839, 853, 857, 859, 863, 877, 881, 883, 887, 907, 911, 919, 929, 937, 941, 947, 953, 967, 971, 977, 983, 991, 997]\n"
     ]
    }
   ],
   "source": [
    "def sieve_of_eratosthenes(n):\n",
    "    prime = [True for i in range(n + 1)]\n",
    "    p = 2\n",
    "    while p * p <= n:\n",
    "        if prime[p] is True:\n",
    "            for i in range(p * p, n + 1, p):\n",
    "                prime[i] = False\n",
    "        p += 1\n",
    "\n",
    "    primes = []\n",
    "    for p in range(2, n):\n",
    "        if prime[p]:\n",
    "            primes.append(p)\n",
    "\n",
    "    return primes\n",
    "\n",
    "print(sieve_of_eratosthenes(1000))"
   ]
  },
  {
   "cell_type": "code",
   "execution_count": 12,
   "id": "8484e439-d309-4b0f-bc3a-95e92acd9e06",
   "metadata": {},
   "outputs": [
    {
     "ename": "TypeError",
     "evalue": "can't multiply sequence by non-int of type 'list'",
     "output_type": "error",
     "traceback": [
      "\u001b[0;31m---------------------------------------------------------------------------\u001b[0m",
      "\u001b[0;31mTypeError\u001b[0m                                 Traceback (most recent call last)",
      "Cell \u001b[0;32mIn[12], line 23\u001b[0m\n\u001b[1;32m     19\u001b[0m     \u001b[38;5;28;01mreturn\u001b[39;00m product\n\u001b[1;32m     21\u001b[0m list1 \u001b[38;5;241m=\u001b[39m [\u001b[38;5;241m1\u001b[39m,\u001b[38;5;241m2\u001b[39m,\u001b[38;5;241m3\u001b[39m,\u001b[38;5;241m4\u001b[39m, [\u001b[38;5;241m44\u001b[39m,\u001b[38;5;241m55\u001b[39m,\u001b[38;5;241m66\u001b[39m, \u001b[38;5;28;01mTrue\u001b[39;00m], \u001b[38;5;28;01mFalse\u001b[39;00m, (\u001b[38;5;241m34\u001b[39m,\u001b[38;5;241m56\u001b[39m,\u001b[38;5;241m78\u001b[39m,\u001b[38;5;241m89\u001b[39m,\u001b[38;5;241m34\u001b[39m), {\u001b[38;5;241m1\u001b[39m,\u001b[38;5;241m2\u001b[39m,\u001b[38;5;241m3\u001b[39m,\u001b[38;5;241m3\u001b[39m,\u001b[38;5;241m2\u001b[39m,\u001b[38;5;241m1\u001b[39m}, {\u001b[38;5;241m1\u001b[39m:\u001b[38;5;241m34\u001b[39m, \u001b[38;5;124m\"\u001b[39m\u001b[38;5;124mkey2\u001b[39m\u001b[38;5;124m\"\u001b[39m: [\u001b[38;5;241m55\u001b[39m, \u001b[38;5;241m67\u001b[39m, \u001b[38;5;241m78\u001b[39m, \u001b[38;5;241m89\u001b[39m], \u001b[38;5;241m4\u001b[39m: (\u001b[38;5;241m45\u001b[39m, \u001b[38;5;241m22\u001b[39m, \u001b[38;5;241m61\u001b[39m, \u001b[38;5;241m34\u001b[39m)}, [\u001b[38;5;241m56\u001b[39m, \u001b[38;5;124m'\u001b[39m\u001b[38;5;124mdata science\u001b[39m\u001b[38;5;124m'\u001b[39m], \u001b[38;5;124m'\u001b[39m\u001b[38;5;124mMachine Learning\u001b[39m\u001b[38;5;124m'\u001b[39m]\n\u001b[0;32m---> 23\u001b[0m result \u001b[38;5;241m=\u001b[39m \u001b[43mnum_list\u001b[49m\u001b[43m(\u001b[49m\u001b[43mlist1\u001b[49m\u001b[43m)\u001b[49m\n\u001b[1;32m     24\u001b[0m \u001b[38;5;28mprint\u001b[39m(result)\n",
      "Cell \u001b[0;32mIn[12], line 10\u001b[0m, in \u001b[0;36mnum_list\u001b[0;34m(lst)\u001b[0m\n\u001b[1;32m      8\u001b[0m     \u001b[38;5;28;01mfor\u001b[39;00m ele \u001b[38;5;129;01min\u001b[39;00m i:\n\u001b[1;32m      9\u001b[0m         \u001b[38;5;28;01mif\u001b[39;00m \u001b[38;5;28mtype\u001b[39m(ele) \u001b[38;5;241m==\u001b[39m \u001b[38;5;28mint\u001b[39m \u001b[38;5;129;01mor\u001b[39;00m \u001b[38;5;28mtype\u001b[39m(ele) \u001b[38;5;241m==\u001b[39m \u001b[38;5;28mfloat\u001b[39m:\n\u001b[0;32m---> 10\u001b[0m             product\u001b[38;5;241m*\u001b[39m\u001b[38;5;241m=\u001b[39mi\n\u001b[1;32m     11\u001b[0m \u001b[38;5;28;01melif\u001b[39;00m \u001b[38;5;28mtype\u001b[39m(i) \u001b[38;5;241m==\u001b[39m \u001b[38;5;28mdict\u001b[39m:\n\u001b[1;32m     12\u001b[0m     \u001b[38;5;28;01mfor\u001b[39;00m key, value \u001b[38;5;129;01min\u001b[39;00m i\u001b[38;5;241m.\u001b[39mitems():\n",
      "\u001b[0;31mTypeError\u001b[0m: can't multiply sequence by non-int of type 'list'"
     ]
    }
   ],
   "source": [
    "# answer 1\n",
    "def num_list(lst):\n",
    "    product=1\n",
    "    for i in lst:\n",
    "        if type(i) == int or type(i) == float:\n",
    "            product*=i\n",
    "        elif type(i) == tuple or type(i) == list or type(i) ==set:\n",
    "            for ele in i:\n",
    "                if type(ele) == int or type(ele) == float:\n",
    "                    product*=i\n",
    "        elif type(i) == dict:\n",
    "            for key, value in i.items():\n",
    "                if type(key) == int or type(key) == float:\n",
    "                    product*=i\n",
    "                if type(value) == int or type(value) == float:\n",
    "                    product*=i\n",
    "                elif type(value) == tuple or type(value) == list:\n",
    "                    product*=num_list(value)\n",
    "    return product\n",
    "\n",
    "list1 = [1,2,3,4, [44,55,66, True], False, (34,56,78,89,34), {1,2,3,3,2,1}, {1:34, \"key2\": [55, 67, 78, 89], 4: (45, 22, 61, 34)}, [56, 'data science'], 'Machine Learning']\n",
    "\n",
    "result = num_list(list1)\n",
    "print(result)"
   ]
  }
 ],
 "metadata": {
  "kernelspec": {
   "display_name": "Python 3 (ipykernel)",
   "language": "python",
   "name": "python3"
  },
  "language_info": {
   "codemirror_mode": {
    "name": "ipython",
    "version": 3
   },
   "file_extension": ".py",
   "mimetype": "text/x-python",
   "name": "python",
   "nbconvert_exporter": "python",
   "pygments_lexer": "ipython3",
   "version": "3.10.8"
  }
 },
 "nbformat": 4,
 "nbformat_minor": 5
}
