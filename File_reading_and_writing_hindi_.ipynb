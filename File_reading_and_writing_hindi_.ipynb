{
 "cells": [
  {
   "cell_type": "code",
   "execution_count": 1,
   "id": "69bb4cc3-3bd9-4448-b761-2dfa9a677192",
   "metadata": {
    "id": "69bb4cc3-3bd9-4448-b761-2dfa9a677192"
   },
   "outputs": [],
   "source": [
    "data= {\n",
    "    \"name\" : \"sudh\",\n",
    "    \"mail_id\" : \"sudh@gmail.com\",\n",
    "    \"phone number\" : 956456546,\n",
    "    \"subject\" : [\"data science \" , \"big data \" , \"data analytics\" ]\n",
    "}\n",
    "# json data"
   ]
  },
  {
   "cell_type": "code",
   "execution_count": 2,
   "id": "ad899eeb-355b-4097-a70c-27803788fb30",
   "metadata": {
    "id": "ad899eeb-355b-4097-a70c-27803788fb30"
   },
   "outputs": [],
   "source": [
    "import json"
   ]
  },
  {
   "cell_type": "code",
   "execution_count": 4,
   "id": "0b6e9b1f-24c6-4180-a957-a9e62092c2ea",
   "metadata": {
    "id": "0b6e9b1f-24c6-4180-a957-a9e62092c2ea"
   },
   "outputs": [],
   "source": [
    "with open(\"data.json\" , \"w\" ) as f :\n",
    "    json.dump(data , f)"
   ]
  },
  {
   "cell_type": "code",
   "execution_count": 5,
   "id": "1bc8850c-184c-4dcf-aa16-d19132da670d",
   "metadata": {
    "id": "1bc8850c-184c-4dcf-aa16-d19132da670d"
   },
   "outputs": [],
   "source": [
    "with open(\"data.json\" , \"r\") as f :\n",
    "    data1 = json.load(f)"
   ]
  },
  {
   "cell_type": "code",
   "execution_count": 8,
   "id": "61874a56-d8a1-447a-9d46-6f9625dcd2bf",
   "metadata": {},
   "outputs": [
    {
     "name": "stdout",
     "output_type": "stream",
     "text": [
      "{\"name\": \"sudh\", \"mail_id\": \"sudh@gmail.com\", \"phone number\": 956456546, \"subject\": [\"data science \", \"big data \", \"data analytics\"]}\n"
     ]
    }
   ],
   "source": [
    "d2=open(\"data.json\",\"r\")\n",
    "print(d2.read())"
   ]
  },
  {
   "cell_type": "code",
   "execution_count": null,
   "id": "ed04089f-cffa-43b6-9e9d-bfbe2e1542b7",
   "metadata": {
    "id": "ed04089f-cffa-43b6-9e9d-bfbe2e1542b7",
    "outputId": "ecb6b691-f49a-46e7-cdba-9a010d9ff199"
   },
   "outputs": [
    {
     "data": {
      "text/plain": [
       "{'name': 'sudh',\n",
       " 'mail_id': 'sudh@gmail.com',\n",
       " 'phone number': 956456546,\n",
       " 'subject': ['data science ', 'big data ', 'data analytics']}"
      ]
     },
     "execution_count": 7,
     "metadata": {},
     "output_type": "execute_result"
    }
   ],
   "source": [
    "data1"
   ]
  },
  {
   "cell_type": "code",
   "execution_count": null,
   "id": "8a69b821-5b4b-4099-93bf-95a3ac6f0a0b",
   "metadata": {
    "id": "8a69b821-5b4b-4099-93bf-95a3ac6f0a0b",
    "outputId": "59dab0cc-333d-4101-ac54-6d007fefea46"
   },
   "outputs": [
    {
     "data": {
      "text/plain": [
       "'big data '"
      ]
     },
     "execution_count": 9,
     "metadata": {},
     "output_type": "execute_result"
    }
   ],
   "source": [
    "data1['subject'][1]"
   ]
  },
  {
   "cell_type": "code",
   "execution_count": 9,
   "id": "8ce1a39c-7bd8-49e1-be80-c3bab7db9740",
   "metadata": {
    "id": "8ce1a39c-7bd8-49e1-be80-c3bab7db9740"
   },
   "outputs": [],
   "source": [
    "import csv"
   ]
  },
  {
   "cell_type": "code",
   "execution_count": 18,
   "id": "f9b40dae-e35d-4cf7-bcff-d95449383e26",
   "metadata": {
    "id": "f9b40dae-e35d-4cf7-bcff-d95449383e26"
   },
   "outputs": [],
   "source": [
    "data = [[\"name\" , \"email_id\" , \"phone_number\"],\n",
    "        [\"sudh\" ,\"sudh@gmail.com\" , 92342424],\n",
    "        [\"krish\" , \"krish@gmail.com\" , 9324242],\n",
    "        [\"asad\"]\n",
    "]"
   ]
  },
  {
   "cell_type": "code",
   "execution_count": 19,
   "id": "c3c68007-fd47-4dc2-94dc-11d9634f5b96",
   "metadata": {
    "id": "c3c68007-fd47-4dc2-94dc-11d9634f5b96"
   },
   "outputs": [],
   "source": [
    "with open(\"data.csv\" , \"w\" ) as f :\n",
    "    writer = csv.writer(f)\n",
    "    \n",
    "    for i in data:\n",
    "        writer.writerow(i)\n",
    "    \n",
    "    "
   ]
  },
  {
   "cell_type": "code",
   "execution_count": 23,
   "id": "8da0e12d-5244-4bb2-b7d8-2aeb4a13b258",
   "metadata": {
    "id": "8da0e12d-5244-4bb2-b7d8-2aeb4a13b258",
    "outputId": "fe890ddc-d3f8-46b2-9031-b2509bfa01ad"
   },
   "outputs": [
    {
     "name": "stdout",
     "output_type": "stream",
     "text": [
      "name:sudh:krish:asad:"
     ]
    }
   ],
   "source": [
    "with open(\"data.csv\" , 'r') as f :\n",
    "    read_data = csv.reader(f)\n",
    "    \n",
    "    for i in read_data:\n",
    "        print(i[0],end=\":\")"
   ]
  },
  {
   "cell_type": "code",
   "execution_count": 27,
   "id": "d43a30f8-e102-4814-bdba-d948a063b6f1",
   "metadata": {
    "id": "d43a30f8-e102-4814-bdba-d948a063b6f1"
   },
   "outputs": [],
   "source": [
    "with open(\"test4.bin\" , \"wb\" ) as f :\n",
    "    f.write(b\"\\x01\\x02\\x03\\x34\\wd\\wn#$%dnv\\x034235\")"
   ]
  },
  {
   "cell_type": "code",
   "execution_count": 29,
   "id": "90da0648-9bfe-4c7c-a30b-7345ed23a44e",
   "metadata": {
    "id": "90da0648-9bfe-4c7c-a30b-7345ed23a44e",
    "outputId": "3a76737c-5946-4313-b139-0898b624d02a"
   },
   "outputs": [
    {
     "name": "stdout",
     "output_type": "stream",
     "text": [
      "b'\\x01\\x02\\x034\\\\wd\\\\wn#$%dnv\\x034235'\n"
     ]
    }
   ],
   "source": [
    "with open(\"test4.bin\",\"rb\")as f :\n",
    "    print(f.read())"
   ]
  }
 ],
 "metadata": {
  "colab": {
   "provenance": []
  },
  "kernelspec": {
   "display_name": "Python 3 (ipykernel)",
   "language": "python",
   "name": "python3"
  },
  "language_info": {
   "codemirror_mode": {
    "name": "ipython",
    "version": 3
   },
   "file_extension": ".py",
   "mimetype": "text/x-python",
   "name": "python",
   "nbconvert_exporter": "python",
   "pygments_lexer": "ipython3",
   "version": "3.10.8"
  }
 },
 "nbformat": 4,
 "nbformat_minor": 5
}
