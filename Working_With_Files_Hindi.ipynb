{
 "cells": [
  {
   "cell_type": "code",
   "execution_count": 1,
   "id": "6acb9a5c-d746-45ff-8eee-051e59e6dc2a",
   "metadata": {
    "id": "6acb9a5c-d746-45ff-8eee-051e59e6dc2a"
   },
   "outputs": [],
   "source": [
    "f = open(\"test.txt\" , 'w')"
   ]
  },
  {
   "cell_type": "code",
   "execution_count": 2,
   "id": "9685a9f7-904c-4ace-ae6a-08046d3f5802",
   "metadata": {
    "id": "9685a9f7-904c-4ace-ae6a-08046d3f5802",
    "outputId": "1767b146-63dd-44b0-bd8e-d4a180211e62"
   },
   "outputs": [
    {
     "data": {
      "text/plain": [
       "'/home/jovyan/work'"
      ]
     },
     "execution_count": 2,
     "metadata": {},
     "output_type": "execute_result"
    }
   ],
   "source": [
    "pwd"
   ]
  },
  {
   "cell_type": "code",
   "execution_count": 3,
   "id": "664b4c09-19f8-4371-927c-87da85345e33",
   "metadata": {
    "id": "664b4c09-19f8-4371-927c-87da85345e33",
    "outputId": "9dd4b459-d744-49e0-f8f9-107e788a3576"
   },
   "outputs": [
    {
     "name": "stdout",
     "output_type": "stream",
     "text": [
      " 9Feb.ipynb   sample-code.ipynb   Working_With_Files_Hindi.ipynb\n",
      " README.md    test.txt           'working with files.ipynb'\n"
     ]
    }
   ],
   "source": [
    "ls"
   ]
  },
  {
   "cell_type": "code",
   "execution_count": 4,
   "id": "c48863f9-73b0-44e8-a8f4-ceaabe5206de",
   "metadata": {
    "id": "c48863f9-73b0-44e8-a8f4-ceaabe5206de",
    "outputId": "b9d53bf3-7b72-4d30-eb78-1d4ff35c1eca"
   },
   "outputs": [
    {
     "name": "stdout",
     "output_type": "stream",
     "text": [
      "[Errno 2] No such file or directory: 'work'\n",
      "/home/jovyan/work\n"
     ]
    }
   ],
   "source": [
    "cd work"
   ]
  },
  {
   "cell_type": "code",
   "execution_count": 5,
   "id": "37c310f2-a948-4c2e-bb33-66589c2d2a08",
   "metadata": {
    "id": "37c310f2-a948-4c2e-bb33-66589c2d2a08",
    "outputId": "9b352b94-13a0-404a-81a0-db4bd9c77ce0"
   },
   "outputs": [
    {
     "name": "stdout",
     "output_type": "stream",
     "text": [
      " 9Feb.ipynb   sample-code.ipynb   Working_With_Files_Hindi.ipynb\n",
      " README.md    test.txt           'working with files.ipynb'\n"
     ]
    }
   ],
   "source": [
    "ls"
   ]
  },
  {
   "cell_type": "code",
   "execution_count": 6,
   "id": "6278610b-9a15-4f8a-893c-480b74befdc6",
   "metadata": {
    "id": "6278610b-9a15-4f8a-893c-480b74befdc6",
    "outputId": "76e1aa7a-c1e2-449b-a27b-446b9d2c2d95"
   },
   "outputs": [
    {
     "data": {
      "text/plain": [
       "30"
      ]
     },
     "execution_count": 6,
     "metadata": {},
     "output_type": "execute_result"
    }
   ],
   "source": [
    "f.write(\"this is my first file to write\")"
   ]
  },
  {
   "cell_type": "code",
   "execution_count": 9,
   "id": "60943a32-0e19-4b6b-932b-ea656a28c73e",
   "metadata": {
    "id": "60943a32-0e19-4b6b-932b-ea656a28c73e"
   },
   "outputs": [],
   "source": [
    "f.close()"
   ]
  },
  {
   "cell_type": "code",
   "execution_count": 10,
   "id": "122cf56a-f68c-4341-83ae-097b9d228c49",
   "metadata": {
    "id": "122cf56a-f68c-4341-83ae-097b9d228c49"
   },
   "outputs": [],
   "source": [
    "f = open(\"test.txt\" , 'w')"
   ]
  },
  {
   "cell_type": "code",
   "execution_count": 11,
   "id": "4d28825d-3667-4eb2-9ca7-30b56cf3bd53",
   "metadata": {
    "id": "4d28825d-3667-4eb2-9ca7-30b56cf3bd53",
    "outputId": "63d6a20b-933d-4eea-d8e1-36e7189c2449"
   },
   "outputs": [
    {
     "data": {
      "text/plain": [
       "15"
      ]
     },
     "execution_count": 11,
     "metadata": {},
     "output_type": "execute_result"
    }
   ],
   "source": [
    "f.write(\"this is my file\")"
   ]
  },
  {
   "cell_type": "code",
   "execution_count": 12,
   "id": "439a9ab8-0c18-43a2-9e2a-da1eac418537",
   "metadata": {
    "id": "439a9ab8-0c18-43a2-9e2a-da1eac418537"
   },
   "outputs": [],
   "source": [
    "f.close()"
   ]
  },
  {
   "cell_type": "code",
   "execution_count": 17,
   "id": "b34797f8-882b-453d-8690-3679f5b90550",
   "metadata": {
    "id": "b34797f8-882b-453d-8690-3679f5b90550"
   },
   "outputs": [],
   "source": [
    "f = open(\"test.txt\" , 'a')"
   ]
  },
  {
   "cell_type": "code",
   "execution_count": 18,
   "id": "33400e86-4863-4f4e-bbde-53664bc00fe8",
   "metadata": {
    "id": "33400e86-4863-4f4e-bbde-53664bc00fe8",
    "outputId": "21d25db2-92d5-41f6-b5ce-c775e36eac2e"
   },
   "outputs": [
    {
     "data": {
      "text/plain": [
       "765"
      ]
     },
     "execution_count": 18,
     "metadata": {},
     "output_type": "execute_result"
    }
   ],
   "source": [
    "f.write(\"Data Science Masters course is highly curated and uniquely designed according to the latest industry standards. This program instills students the skills essential to knowledge discovery efforts to identify standard, novel, and truly differentiated solutions and decision-making, including skills in managing, querying, analyzing, visualizing, and extracting meaning from extremely large data sets. This trending program provides students with the statistical, mathematical and computational skills needed to meet the large-scale data science challenges of today's professional world. You will learn all the stack required to work in data science industry including cloud infrastructure and real-time industry projects. This course will be taught in Hindi language.\")"
   ]
  },
  {
   "cell_type": "code",
   "execution_count": 19,
   "id": "56800068-78aa-49dc-99f5-62e77c2e6107",
   "metadata": {
    "id": "56800068-78aa-49dc-99f5-62e77c2e6107"
   },
   "outputs": [],
   "source": [
    "f.close()"
   ]
  },
  {
   "cell_type": "code",
   "execution_count": 24,
   "id": "445ffc84-cc12-4c7d-97cf-eb13ca1f4c2a",
   "metadata": {
    "id": "445ffc84-cc12-4c7d-97cf-eb13ca1f4c2a"
   },
   "outputs": [],
   "source": [
    "data = open(\"test.txt\" , 'r')"
   ]
  },
  {
   "cell_type": "code",
   "execution_count": 25,
   "id": "ee078cfe-ec9f-4401-abf6-110fc1b2e77a",
   "metadata": {
    "id": "ee078cfe-ec9f-4401-abf6-110fc1b2e77a",
    "outputId": "671a2a0f-185f-41e5-c8f9-2f9d1f7cbfa9"
   },
   "outputs": [
    {
     "data": {
      "text/plain": [
       "\"this is my fileData Science Masters course is highly curated and uniquely designed according to the latest industry standards. This program instills students the skills essential to knowledge discovery efforts to identify standard, novel, and truly differentiated solutions and decision-making, including skills in managing, querying, analyzing, visualizing, and extracting meaning from extremely large data sets. This trending program provides students with the statistical, mathematical and computational skills needed to meet the large-scale data science challenges of today's professional world. You will learn all the stack required to work in data science industry including cloud infrastructure and real-time industry projects. This course will be taught in Hindi language.Data Science Masters course is highly curated and uniquely designed according to the latest industry standards. This program instills students the skills essential to knowledge discovery efforts to identify standard, novel, and truly differentiated solutions and decision-making, including skills in managing, querying, analyzing, visualizing, and extracting meaning from extremely large data sets. This trending program provides students with the statistical, mathematical and computational skills needed to meet the large-scale data science challenges of today's professional world. You will learn all the stack required to work in data science industry including cloud infrastructure and real-time industry projects. This course will be taught in Hindi language.\""
      ]
     },
     "execution_count": 25,
     "metadata": {},
     "output_type": "execute_result"
    }
   ],
   "source": [
    "data.read()"
   ]
  },
  {
   "cell_type": "code",
   "execution_count": 26,
   "id": "3491e171-fc6b-43ab-a729-1f61fdfba460",
   "metadata": {
    "id": "3491e171-fc6b-43ab-a729-1f61fdfba460",
    "outputId": "66c0adc3-ce3b-4fd2-8baa-74f9780e9941"
   },
   "outputs": [
    {
     "data": {
      "text/plain": [
       "''"
      ]
     },
     "execution_count": 26,
     "metadata": {},
     "output_type": "execute_result"
    }
   ],
   "source": [
    "data.readline()"
   ]
  },
  {
   "cell_type": "code",
   "execution_count": 27,
   "id": "fbaae04a-c3e4-4d8d-8a94-9d5ac0be2749",
   "metadata": {
    "id": "fbaae04a-c3e4-4d8d-8a94-9d5ac0be2749",
    "outputId": "384f4269-05fe-44d0-bfb1-5aa32351b518"
   },
   "outputs": [
    {
     "data": {
      "text/plain": [
       "0"
      ]
     },
     "execution_count": 27,
     "metadata": {},
     "output_type": "execute_result"
    }
   ],
   "source": [
    "data.seek(0)"
   ]
  },
  {
   "cell_type": "code",
   "execution_count": 28,
   "id": "684e96f7-1479-4bac-8bb4-8279926acf04",
   "metadata": {
    "id": "684e96f7-1479-4bac-8bb4-8279926acf04",
    "outputId": "b5253c47-0ab3-426e-f809-d1d68699af08"
   },
   "outputs": [
    {
     "data": {
      "text/plain": [
       "\"this is my fileData Science Masters course is highly curated and uniquely designed according to the latest industry standards. This program instills students the skills essential to knowledge discovery efforts to identify standard, novel, and truly differentiated solutions and decision-making, including skills in managing, querying, analyzing, visualizing, and extracting meaning from extremely large data sets. This trending program provides students with the statistical, mathematical and computational skills needed to meet the large-scale data science challenges of today's professional world. You will learn all the stack required to work in data science industry including cloud infrastructure and real-time industry projects. This course will be taught in Hindi language.Data Science Masters course is highly curated and uniquely designed according to the latest industry standards. This program instills students the skills essential to knowledge discovery efforts to identify standard, novel, and truly differentiated solutions and decision-making, including skills in managing, querying, analyzing, visualizing, and extracting meaning from extremely large data sets. This trending program provides students with the statistical, mathematical and computational skills needed to meet the large-scale data science challenges of today's professional world. You will learn all the stack required to work in data science industry including cloud infrastructure and real-time industry projects. This course will be taught in Hindi language.\""
      ]
     },
     "execution_count": 28,
     "metadata": {},
     "output_type": "execute_result"
    }
   ],
   "source": [
    "data.readline()"
   ]
  },
  {
   "cell_type": "code",
   "execution_count": 29,
   "id": "5cd8c6ac-ad3e-4b87-8182-079dbf9d1f7d",
   "metadata": {
    "id": "5cd8c6ac-ad3e-4b87-8182-079dbf9d1f7d",
    "outputId": "556402a1-4c16-4932-bf7f-4123eeb7df04"
   },
   "outputs": [
    {
     "data": {
      "text/plain": [
       "10"
      ]
     },
     "execution_count": 29,
     "metadata": {},
     "output_type": "execute_result"
    }
   ],
   "source": [
    "data.seek(10)"
   ]
  },
  {
   "cell_type": "code",
   "execution_count": 30,
   "id": "5a2e7238-d9b2-4600-b815-c128c8c5403a",
   "metadata": {
    "id": "5a2e7238-d9b2-4600-b815-c128c8c5403a",
    "outputId": "daba3e24-ee6a-4a11-b1fd-7fe4713c268b"
   },
   "outputs": [
    {
     "data": {
      "text/plain": [
       "\" fileData Science Masters course is highly curated and uniquely designed according to the latest industry standards. This program instills students the skills essential to knowledge discovery efforts to identify standard, novel, and truly differentiated solutions and decision-making, including skills in managing, querying, analyzing, visualizing, and extracting meaning from extremely large data sets. This trending program provides students with the statistical, mathematical and computational skills needed to meet the large-scale data science challenges of today's professional world. You will learn all the stack required to work in data science industry including cloud infrastructure and real-time industry projects. This course will be taught in Hindi language.Data Science Masters course is highly curated and uniquely designed according to the latest industry standards. This program instills students the skills essential to knowledge discovery efforts to identify standard, novel, and truly differentiated solutions and decision-making, including skills in managing, querying, analyzing, visualizing, and extracting meaning from extremely large data sets. This trending program provides students with the statistical, mathematical and computational skills needed to meet the large-scale data science challenges of today's professional world. You will learn all the stack required to work in data science industry including cloud infrastructure and real-time industry projects. This course will be taught in Hindi language.\""
      ]
     },
     "execution_count": 30,
     "metadata": {},
     "output_type": "execute_result"
    }
   ],
   "source": [
    "data.read()"
   ]
  },
  {
   "cell_type": "code",
   "execution_count": 31,
   "id": "536b5d0e-5ba3-42ba-84df-3706a16ab0a9",
   "metadata": {
    "id": "536b5d0e-5ba3-42ba-84df-3706a16ab0a9"
   },
   "outputs": [],
   "source": [
    "data1 = open(\"test.txt\" , 'r')"
   ]
  },
  {
   "cell_type": "code",
   "execution_count": 32,
   "id": "96813bb2-8d80-4746-a8e3-e9c979f65679",
   "metadata": {
    "id": "96813bb2-8d80-4746-a8e3-e9c979f65679",
    "outputId": "99099a24-a43d-46a8-a70e-7b844f28e221"
   },
   "outputs": [
    {
     "name": "stdout",
     "output_type": "stream",
     "text": [
      "Science Masters course is highly curated and uniquely designed according to the latest industry standards. This program instills students the skills essential to knowledge discovery efforts to identify standard, novel, and truly differentiated solutions and decision-making, including skills in managing, querying, analyzing, visualizing, and extracting meaning from extremely large data sets. This trending program provides students with the statistical, mathematical and computational skills needed to meet the large-scale data science challenges of today's professional world. You will learn all the stack required to work in data science industry including cloud infrastructure and real-time industry projects. This course will be taught in Hindi language.Data Science Masters course is highly curated and uniquely designed according to the latest industry standards. This program instills students the skills essential to knowledge discovery efforts to identify standard, novel, and truly differentiated solutions and decision-making, including skills in managing, querying, analyzing, visualizing, and extracting meaning from extremely large data sets. This trending program provides students with the statistical, mathematical and computational skills needed to meet the large-scale data science challenges of today's professional world. You will learn all the stack required to work in data science industry including cloud infrastructure and real-time industry projects. This course will be taught in Hindi language.\n"
     ]
    }
   ],
   "source": [
    "data1.seek(20)\n",
    "for i in data1:\n",
    "    print(i)"
   ]
  },
  {
   "cell_type": "code",
   "execution_count": 33,
   "id": "41333f52-a7b3-4f2b-9403-4858b509a0bf",
   "metadata": {
    "id": "41333f52-a7b3-4f2b-9403-4858b509a0bf"
   },
   "outputs": [],
   "source": [
    "import os"
   ]
  },
  {
   "cell_type": "code",
   "execution_count": 34,
   "id": "3c934dfd-0496-494d-974b-6bbcbe39e9f9",
   "metadata": {
    "id": "3c934dfd-0496-494d-974b-6bbcbe39e9f9",
    "outputId": "a6411edf-ece4-4f8d-9746-dd11e527c647"
   },
   "outputs": [
    {
     "data": {
      "text/plain": [
       "1545"
      ]
     },
     "execution_count": 34,
     "metadata": {},
     "output_type": "execute_result"
    }
   ],
   "source": [
    "os.path.getsize(\"test.txt\")     # in kbs"
   ]
  },
  {
   "cell_type": "code",
   "execution_count": 35,
   "id": "07997006-4098-4a25-8e78-ef2269be6ef6",
   "metadata": {
    "id": "07997006-4098-4a25-8e78-ef2269be6ef6"
   },
   "outputs": [],
   "source": [
    "os.remove(\"test.txt\")"
   ]
  },
  {
   "cell_type": "code",
   "execution_count": 36,
   "id": "403a801f-5748-4d77-b5e4-2d5598bc1f50",
   "metadata": {
    "id": "403a801f-5748-4d77-b5e4-2d5598bc1f50"
   },
   "outputs": [],
   "source": [
    "f = open(\"test1.txt\" , \"w\")"
   ]
  },
  {
   "cell_type": "code",
   "execution_count": 37,
   "id": "f685a9a8-c0ab-47c0-a087-d96bb475fc82",
   "metadata": {
    "id": "f685a9a8-c0ab-47c0-a087-d96bb475fc82",
    "outputId": "92ca7b97-24cb-4339-86ba-e29d7e2338d3"
   },
   "outputs": [
    {
     "data": {
      "text/plain": [
       "780"
      ]
     },
     "execution_count": 37,
     "metadata": {},
     "output_type": "execute_result"
    }
   ],
   "source": [
    "f.write(\"this is my fileData Science Masters course is highly curated and uniquely designed according to the latest industry standards. This program instills students the skills essential to knowledge discovery efforts to identify standard, novel, and truly differentiated solutions and decision-making, including skills in managing, querying, analyzing, visualizing, and extracting meaning from extremely large data sets. This trending program provides students with the statistical, mathematical and computational skills needed to meet the large-scale data science challenges of today's professional world. You will learn all the stack required to work in data science industry including cloud infrastructure and real-time industry projects. This course will be taught in Hindi language.\")"
   ]
  },
  {
   "cell_type": "code",
   "execution_count": 38,
   "id": "9f398934-3e85-4757-889d-ae9a8f2ecbcb",
   "metadata": {
    "id": "9f398934-3e85-4757-889d-ae9a8f2ecbcb"
   },
   "outputs": [],
   "source": [
    "f.close()"
   ]
  },
  {
   "cell_type": "code",
   "execution_count": null,
   "id": "9552beb5-7039-47d6-b7ff-31eb19c0a50f",
   "metadata": {
    "id": "9552beb5-7039-47d6-b7ff-31eb19c0a50f"
   },
   "outputs": [],
   "source": [
    "os.rename(\"test1.txt\" , \"new.txt\")"
   ]
  },
  {
   "cell_type": "code",
   "execution_count": null,
   "id": "39df0fd7-22ba-4f3d-998b-6b8383ebf3a6",
   "metadata": {
    "id": "39df0fd7-22ba-4f3d-998b-6b8383ebf3a6"
   },
   "outputs": [],
   "source": [
    "import shutil"
   ]
  },
  {
   "cell_type": "code",
   "execution_count": null,
   "id": "7da445f1-6cdc-4264-bed8-1f41dfe2dbea",
   "metadata": {
    "id": "7da445f1-6cdc-4264-bed8-1f41dfe2dbea",
    "outputId": "0200e9a9-9ebf-495f-dde1-a6ed5869cfa3"
   },
   "outputs": [
    {
     "data": {
      "text/plain": [
       "'copy_new.txt'"
      ]
     },
     "execution_count": 45,
     "metadata": {},
     "output_type": "execute_result"
    }
   ],
   "source": [
    "shutil.copy(\"new.txt\" , \"copy_new.txt\")"
   ]
  },
  {
   "cell_type": "code",
   "execution_count": null,
   "id": "8448f87f-4218-48de-9bdd-155e25d1dfdd",
   "metadata": {
    "id": "8448f87f-4218-48de-9bdd-155e25d1dfdd",
    "outputId": "dcfbfb48-1bbf-4a5e-8c30-d2daad0e3b59"
   },
   "outputs": [
    {
     "name": "stdout",
     "output_type": "stream",
     "text": [
      "this is my fileData Science Masters course is highly curated and uniquely designed according to the latest industry standards. This program instills students the skills essential to knowledge discovery efforts to identify standard, novel, and truly differentiated solutions and decision-making, including skills in managing, querying, analyzing, visualizing, and extracting meaning from extremely large data sets. This trending program provides students with the statistical, mathematical and computational skills needed to meet the large-scale data science challenges of today's professional world. You will learn all the stack required to work in data science industry including cloud infrastructure and real-time industry projects. This course will be taught in Hindi language.\n"
     ]
    }
   ],
   "source": [
    "with open(\"new.txt\" , \"r\") as f :\n",
    "    print(f.read())\n",
    "    "
   ]
  },
  {
   "cell_type": "code",
   "execution_count": null,
   "id": "9dca6578-4786-4525-a29e-2bdb3f0fecf9",
   "metadata": {
    "id": "9dca6578-4786-4525-a29e-2bdb3f0fecf9"
   },
   "outputs": [],
   "source": []
  }
 ],
 "metadata": {
  "colab": {
   "provenance": []
  },
  "kernelspec": {
   "display_name": "Python 3 (ipykernel)",
   "language": "python",
   "name": "python3"
  },
  "language_info": {
   "codemirror_mode": {
    "name": "ipython",
    "version": 3
   },
   "file_extension": ".py",
   "mimetype": "text/x-python",
   "name": "python",
   "nbconvert_exporter": "python",
   "pygments_lexer": "ipython3",
   "version": "3.10.8"
  }
 },
 "nbformat": 4,
 "nbformat_minor": 5
}
