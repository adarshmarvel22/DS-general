{
 "cells": [
  {
   "cell_type": "code",
   "execution_count": 5,
   "id": "ec9077ae-1cdb-4c63-a4c5-07fbd7fd2419",
   "metadata": {},
   "outputs": [
    {
     "name": "stdout",
     "output_type": "stream",
     "text": [
      "1 <class 'int'>\n",
      "2 <class 'int'>\n",
      "2 <class 'int'>\n",
      "4 <class 'int'>\n",
      "5 <class 'int'>\n",
      "this else will exxecute only if the loop is executed successfully\n"
     ]
    }
   ],
   "source": [
    "l1=[1,2,2,3,4,5]\n",
    "\n",
    "for i in l1:\n",
    "    if i==3:\n",
    "        continue\n",
    "    print(i,type(i))\n",
    "    # if i== 4:\n",
    "    #     break\n",
    "else:\n",
    "    print(\"this else will exxecute only if the loop is executed successfully\")"
   ]
  },
  {
   "cell_type": "code",
   "execution_count": 13,
   "id": "65fb1806-0702-41e5-8054-ae73952d25fd",
   "metadata": {},
   "outputs": [
    {
     "name": "stdout",
     "output_type": "stream",
     "text": [
      "0-10-20-30-40-50-60-70-80-90-100\n"
     ]
    }
   ],
   "source": [
    "for i in range (0,101,10):\n",
    "    if i==100:\n",
    "        print(i)\n",
    "        break\n",
    "    print(i,end=\"-\")"
   ]
  },
  {
   "cell_type": "code",
   "execution_count": 15,
   "id": "4caad1cb-b81b-401b-bc22-72ea16dc0e5f",
   "metadata": {},
   "outputs": [
    {
     "data": {
      "text/plain": [
       "[1, 3, 5, 7, 9]"
      ]
     },
     "execution_count": 15,
     "metadata": {},
     "output_type": "execute_result"
    }
   ],
   "source": [
    "list(range(1,10,2))"
   ]
  },
  {
   "cell_type": "code",
   "execution_count": 19,
   "id": "892e28bd-eedc-44d9-b00f-7774486b4078",
   "metadata": {},
   "outputs": [
    {
     "data": {
      "text/plain": [
       "[-10, -8, -6, -4, -2, 0]"
      ]
     },
     "execution_count": 19,
     "metadata": {},
     "output_type": "execute_result"
    }
   ],
   "source": [
    "list(range(-10,1,2))"
   ]
  },
  {
   "cell_type": "code",
   "execution_count": 27,
   "id": "1de52a0a-323c-4789-89cd-f05fab37d1fa",
   "metadata": {},
   "outputs": [
    {
     "name": "stdout",
     "output_type": "stream",
     "text": [
      "anuj adarsh sachin akask "
     ]
    }
   ],
   "source": [
    "l1=[\"akask\",\"sachin\",\"adarsh\",\"anuj\"]\n",
    "l=list(range(len(l1)-1,-1,-1))\n",
    "\n",
    "for i in l:\n",
    "    print(l1[i],end=\" \")"
   ]
  },
  {
   "cell_type": "code",
   "execution_count": 36,
   "id": "2fb00c3e-2295-4061-bb3e-73737dd9d5d0",
   "metadata": {},
   "outputs": [
    {
     "name": "stdout",
     "output_type": "stream",
     "text": [
      "1356\n",
      "68\n"
     ]
    }
   ],
   "source": [
    "l2=[1,2,3,45,5,6,6]\n",
    "for i in range(0,len(l2)+1,2):\n",
    "    print(l2[i],end=\"\")\n",
    "print(\"\\r\")\n",
    "print(sum(l2))"
   ]
  },
  {
   "cell_type": "code",
   "execution_count": 38,
   "id": "e35f069f-520a-401a-8b45-8a977ca5f244",
   "metadata": {},
   "outputs": [
    {
     "name": "stdout",
     "output_type": "stream",
     "text": [
      "anuj\n",
      "allahabad\n",
      "['chess', 'tennis', 'cricket', 'volleyball']\n"
     ]
    }
   ],
   "source": [
    "d={\n",
    "    'name':'anuj',\n",
    "    'city':'allahabad',\n",
    "    'hobby':['chess','tennis','cricket','volleyball']\n",
    "}\n",
    "\n",
    "for i in d.keys():\n",
    "    print(d[i])"
   ]
  },
  {
   "cell_type": "code",
   "execution_count": 40,
   "id": "1554bbad-3019-43d3-b0a2-9e0d7a240a85",
   "metadata": {},
   "outputs": [
    {
     "name": "stdout",
     "output_type": "stream",
     "text": [
      "anuj\n",
      "allahabad\n",
      "['chess', 'tennis', 'cricket', 'volleyball']\n"
     ]
    }
   ],
   "source": [
    "for i in d.values():\n",
    "    print(i)"
   ]
  },
  {
   "cell_type": "code",
   "execution_count": 42,
   "id": "5ac5778a-c67b-4770-aea3-7888040463bc",
   "metadata": {},
   "outputs": [
    {
     "name": "stdout",
     "output_type": "stream",
     "text": [
      "('name', 'anuj')\n",
      "('city', 'allahabad')\n",
      "('hobby', ['chess', 'tennis', 'cricket', 'volleyball'])\n"
     ]
    }
   ],
   "source": [
    "for i in d.items():\n",
    "    print(i)"
   ]
  }
 ],
 "metadata": {
  "kernelspec": {
   "display_name": "Python 3 (ipykernel)",
   "language": "python",
   "name": "python3"
  },
  "language_info": {
   "codemirror_mode": {
    "name": "ipython",
    "version": 3
   },
   "file_extension": ".py",
   "mimetype": "text/x-python",
   "name": "python",
   "nbconvert_exporter": "python",
   "pygments_lexer": "ipython3",
   "version": "3.10.8"
  }
 },
 "nbformat": 4,
 "nbformat_minor": 5
}
