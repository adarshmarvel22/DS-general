{
  "cells": [
    {
      "cell_type": "code",
      "execution_count": null,
      "id": "417bb189-3667-4edd-9b73-ea362dc760b2",
      "metadata": {
        "id": "417bb189-3667-4edd-9b73-ea362dc760b2"
      },
      "outputs": [],
      "source": [
        "import threading"
      ]
    },
    {
      "cell_type": "code",
      "execution_count": null,
      "id": "8e0e2a36-01af-43df-b241-0470f9fc845f",
      "metadata": {
        "id": "8e0e2a36-01af-43df-b241-0470f9fc845f"
      },
      "outputs": [],
      "source": [
        "def test(id):\n",
        "    print(\"prog start %d \"% id)"
      ]
    },
    {
      "cell_type": "code",
      "execution_count": null,
      "id": "8e6b6868-c42f-452e-b4ee-8d62d818f6f0",
      "metadata": {
        "id": "8e6b6868-c42f-452e-b4ee-8d62d818f6f0",
        "outputId": "b3740e1f-3f69-4d8e-d820-9c269a196152"
      },
      "outputs": [
        {
          "name": "stdout",
          "output_type": "stream",
          "text": [
            "prog start 45 \n"
          ]
        }
      ],
      "source": [
        "test(45)"
      ]
    },
    {
      "cell_type": "code",
      "execution_count": null,
      "id": "cd6d0222-fd31-4779-bea8-2ba44abf9892",
      "metadata": {
        "id": "cd6d0222-fd31-4779-bea8-2ba44abf9892"
      },
      "outputs": [],
      "source": [
        "thread = [threading.Thread(target=test , args=(i,) )for i in range(10)]"
      ]
    },
    {
      "cell_type": "code",
      "execution_count": null,
      "id": "4471fbd5-1ed9-4cfe-b14d-4556555739f9",
      "metadata": {
        "id": "4471fbd5-1ed9-4cfe-b14d-4556555739f9",
        "outputId": "8d71706e-e40a-43dd-9c0b-3d8db73df111"
      },
      "outputs": [
        {
          "name": "stdout",
          "output_type": "stream",
          "text": [
            "prog start 0 \n",
            "prog start 1 \n",
            "prog start 2 \n",
            "prog start 3 \n",
            "prog start 4 \n",
            "prog start 5 \n",
            "prog start 6 \n",
            "prog start 7 \n",
            "prog start 8 \n",
            "prog start 9 \n"
          ]
        }
      ],
      "source": [
        "for t in thread : \n",
        "    t.start()"
      ]
    },
    {
      "cell_type": "code",
      "execution_count": null,
      "id": "3488c0d8-4abe-40c7-979c-226b45bfeef3",
      "metadata": {
        "id": "3488c0d8-4abe-40c7-979c-226b45bfeef3",
        "outputId": "a8ab8a19-65e5-4505-e9c5-2c785e4e3452"
      },
      "outputs": [
        {
          "data": {
            "text/plain": [
              "[0, 1, 2, 3, 4, 5, 6, 7, 8, 9]"
            ]
          },
          "execution_count": 11,
          "metadata": {},
          "output_type": "execute_result"
        }
      ],
      "source": [
        "list(range(10))"
      ]
    },
    {
      "cell_type": "code",
      "execution_count": null,
      "id": "01909aef-8a41-4d95-ae30-e53ca4d20497",
      "metadata": {
        "id": "01909aef-8a41-4d95-ae30-e53ca4d20497",
        "outputId": "48495836-2295-47bd-89c0-941dc9744abe"
      },
      "outputs": [
        {
          "data": {
            "text/plain": [
              "[<Thread(Thread-15 (test), stopped 140410037978688)>,\n",
              " <Thread(Thread-16 (test), stopped 140410037978688)>,\n",
              " <Thread(Thread-17 (test), stopped 140410037978688)>,\n",
              " <Thread(Thread-18 (test), stopped 140410037978688)>,\n",
              " <Thread(Thread-19 (test), stopped 140410037978688)>,\n",
              " <Thread(Thread-20 (test), stopped 140410037978688)>,\n",
              " <Thread(Thread-21 (test), stopped 140410037978688)>,\n",
              " <Thread(Thread-22 (test), stopped 140410037978688)>,\n",
              " <Thread(Thread-23 (test), stopped 140410037978688)>,\n",
              " <Thread(Thread-24 (test), stopped 140410037978688)>]"
            ]
          },
          "execution_count": 12,
          "metadata": {},
          "output_type": "execute_result"
        }
      ],
      "source": [
        "thread"
      ]
    },
    {
      "cell_type": "code",
      "execution_count": null,
      "id": "abc83092-ce36-4938-b770-5bcacda4202f",
      "metadata": {
        "id": "abc83092-ce36-4938-b770-5bcacda4202f",
        "outputId": "41546b54-021d-40d6-dd8d-abe8b1d0c9df"
      },
      "outputs": [
        {
          "data": {
            "text/plain": [
              "140410039834752"
            ]
          },
          "execution_count": 13,
          "metadata": {},
          "output_type": "execute_result"
        }
      ],
      "source": [
        "id(thread)"
      ]
    },
    {
      "cell_type": "code",
      "execution_count": 1,
      "id": "9376dcc8-36c8-4e46-b36d-2105a949399f",
      "metadata": {
        "id": "9376dcc8-36c8-4e46-b36d-2105a949399f"
      },
      "outputs": [],
      "source": [
        "import threading\n",
        "import urllib.request\n",
        "\n",
        "def file_downlaod(url , filname) : \n",
        "    urllib.request.urlretrieve(url,filname)\n",
        "    "
      ]
    },
    {
      "cell_type": "code",
      "execution_count": 2,
      "id": "92684ee5-7bea-4ad3-87f3-920b613d22bf",
      "metadata": {
        "id": "92684ee5-7bea-4ad3-87f3-920b613d22bf"
      },
      "outputs": [],
      "source": [
        "file_downlaod('https://raw.githubusercontent.com/itsfoss/text-files/master/agatha.txt' , \"test.txt\")"
      ]
    },
    {
      "cell_type": "code",
      "execution_count": 3,
      "id": "1386bd4f-f7a9-44e6-8fea-41586da9fabd",
      "metadata": {
        "id": "1386bd4f-f7a9-44e6-8fea-41586da9fabd"
      },
      "outputs": [],
      "source": [
        "url_list  = ['https://raw.githubusercontent.com/itsfoss/text-files/master/agatha.txt','https://raw.githubusercontent.com/itsfoss/text-files/master/sherlock.txt','https://raw.githubusercontent.com/itsfoss/text-files/master/sample_log_file.txt']"
      ]
    },
    {
      "cell_type": "code",
      "execution_count": 4,
      "id": "df436a8a-ef1b-4e09-9119-69b1457a631b",
      "metadata": {
        "id": "df436a8a-ef1b-4e09-9119-69b1457a631b",
        "outputId": "d9f4cfeb-d870-41aa-e201-6c6f9e1aa6b7",
        "colab": {
          "base_uri": "https://localhost:8080/"
        }
      },
      "outputs": [
        {
          "output_type": "execute_result",
          "data": {
            "text/plain": [
              "['https://raw.githubusercontent.com/itsfoss/text-files/master/agatha.txt',\n",
              " 'https://raw.githubusercontent.com/itsfoss/text-files/master/sherlock.txt',\n",
              " 'https://raw.githubusercontent.com/itsfoss/text-files/master/sample_log_file.txt']"
            ]
          },
          "metadata": {},
          "execution_count": 4
        }
      ],
      "source": [
        "url_list"
      ]
    },
    {
      "cell_type": "code",
      "execution_count": 5,
      "id": "de20107e-ecba-44d6-9cbc-5b77afde35c5",
      "metadata": {
        "id": "de20107e-ecba-44d6-9cbc-5b77afde35c5"
      },
      "outputs": [],
      "source": [
        "file_name_list = ['data1.txt' , 'data2.txt' , 'data3.txt']"
      ]
    },
    {
      "cell_type": "code",
      "execution_count": 6,
      "id": "34958198-b522-4342-80dd-8a26d525c009",
      "metadata": {
        "id": "34958198-b522-4342-80dd-8a26d525c009"
      },
      "outputs": [],
      "source": [
        "ther = [threading.Thread(target=file_downlaod , args = (url_list[i] , file_name_list[i]) ) for i in range(len(url_list))]"
      ]
    },
    {
      "cell_type": "code",
      "execution_count": 7,
      "id": "3ec112b5-bcca-4961-b3c5-c58abea72205",
      "metadata": {
        "id": "3ec112b5-bcca-4961-b3c5-c58abea72205",
        "outputId": "98ec1b2f-9db2-4841-b0d7-f99599113808",
        "colab": {
          "base_uri": "https://localhost:8080/"
        }
      },
      "outputs": [
        {
          "output_type": "execute_result",
          "data": {
            "text/plain": [
              "[<Thread(Thread-11, initial)>,\n",
              " <Thread(Thread-12, initial)>,\n",
              " <Thread(Thread-13, initial)>]"
            ]
          },
          "metadata": {},
          "execution_count": 7
        }
      ],
      "source": [
        "ther"
      ]
    },
    {
      "cell_type": "code",
      "execution_count": 8,
      "id": "aa9c77ea-3938-4078-904f-29fc5b671671",
      "metadata": {
        "id": "aa9c77ea-3938-4078-904f-29fc5b671671"
      },
      "outputs": [],
      "source": [
        "for t in ther :\n",
        "    t.start()"
      ]
    },
    {
      "cell_type": "code",
      "execution_count": 9,
      "id": "5cd98d1c-cfa9-4b4c-99d3-605ca0ec9924",
      "metadata": {
        "id": "5cd98d1c-cfa9-4b4c-99d3-605ca0ec9924",
        "outputId": "5ec66041-5ce7-4c90-debe-cbdf61f94827",
        "colab": {
          "base_uri": "https://localhost:8080/"
        }
      },
      "outputs": [
        {
          "output_type": "execute_result",
          "data": {
            "text/plain": [
              "[<Thread(Thread-11, stopped 139771894146816)>,\n",
              " <Thread(Thread-12, stopped 139771504461568)>,\n",
              " <Thread(Thread-13, stopped 139771496068864)>]"
            ]
          },
          "metadata": {},
          "execution_count": 9
        }
      ],
      "source": [
        "ther"
      ]
    },
    {
      "cell_type": "code",
      "execution_count": null,
      "id": "306564fb-6298-468a-baa5-88474d42c9fc",
      "metadata": {
        "id": "306564fb-6298-468a-baa5-88474d42c9fc"
      },
      "outputs": [],
      "source": [
        "import time "
      ]
    },
    {
      "cell_type": "code",
      "execution_count": null,
      "id": "b25120cd-66a8-4d48-b8b1-2e369e45e951",
      "metadata": {
        "id": "b25120cd-66a8-4d48-b8b1-2e369e45e951"
      },
      "outputs": [],
      "source": [
        "def test1(id) :\n",
        "    for i in range(10) : \n",
        "        print(\"test1 %d printing %d %s\" %(id,i,time.ctime()))\n",
        "        time.sleep(1)"
      ]
    },
    {
      "cell_type": "code",
      "execution_count": null,
      "id": "a745e0df-9b64-4f12-a865-e6658985d1f1",
      "metadata": {
        "id": "a745e0df-9b64-4f12-a865-e6658985d1f1",
        "outputId": "e25795cb-7f14-463a-fa5d-48eca073a583"
      },
      "outputs": [
        {
          "name": "stdout",
          "output_type": "stream",
          "text": [
            "test1 0 printing 0 Tue Feb 14 12:06:02 2023\n",
            "test1 0 printing 1 Tue Feb 14 12:06:03 2023\n",
            "test1 0 printing 2 Tue Feb 14 12:06:04 2023\n",
            "test1 0 printing 3 Tue Feb 14 12:06:05 2023\n",
            "test1 0 printing 4 Tue Feb 14 12:06:06 2023\n",
            "test1 0 printing 5 Tue Feb 14 12:06:07 2023\n",
            "test1 0 printing 6 Tue Feb 14 12:06:08 2023\n",
            "test1 0 printing 7 Tue Feb 14 12:06:09 2023\n",
            "test1 0 printing 8 Tue Feb 14 12:06:10 2023\n",
            "test1 0 printing 9 Tue Feb 14 12:06:11 2023\n"
          ]
        }
      ],
      "source": [
        "test1(0)"
      ]
    },
    {
      "cell_type": "code",
      "execution_count": null,
      "id": "6c6d7de4-ef7d-49e3-b743-7f99c9e54051",
      "metadata": {
        "id": "6c6d7de4-ef7d-49e3-b743-7f99c9e54051"
      },
      "outputs": [],
      "source": [
        "thread1 = [threading.Thread(target=test1 , args  = (i,)) for i in range(3)]"
      ]
    },
    {
      "cell_type": "code",
      "execution_count": null,
      "id": "b856dbc0-49cf-4827-afe4-a0c93a6c266f",
      "metadata": {
        "id": "b856dbc0-49cf-4827-afe4-a0c93a6c266f",
        "outputId": "be68e50c-7d30-4f0d-e9ce-7e72ae8c96fa"
      },
      "outputs": [
        {
          "name": "stdout",
          "output_type": "stream",
          "text": [
            "test1 0 printing 0 Tue Feb 14 12:06:12 2023\n",
            "test1 1 printing 0 Tue Feb 14 12:06:12 2023\n",
            "test1 2 printing 0 Tue Feb 14 12:06:12 2023\n",
            "test1 1 printing 1 Tue Feb 14 12:06:13 2023test1 0 printing 1 Tue Feb 14 12:06:13 2023\n",
            "\n",
            "test1 2 printing 1 Tue Feb 14 12:06:13 2023\n",
            "test1 0 printing 2 Tue Feb 14 12:06:14 2023test1 1 printing 2 Tue Feb 14 12:06:14 2023\n",
            "\n",
            "test1 2 printing 2 Tue Feb 14 12:06:14 2023\n",
            "test1 1 printing 3 Tue Feb 14 12:06:15 2023test1 2 printing 3 Tue Feb 14 12:06:15 2023\n",
            "\n",
            "test1 0 printing 3 Tue Feb 14 12:06:15 2023\n",
            "test1 1 printing 4 Tue Feb 14 12:06:16 2023\n",
            "test1 2 printing 4 Tue Feb 14 12:06:16 2023\n",
            "test1 0 printing 4 Tue Feb 14 12:06:16 2023\n",
            "test1 1 printing 5 Tue Feb 14 12:06:17 2023\n",
            "test1 2 printing 5 Tue Feb 14 12:06:17 2023\n",
            "test1 0 printing 5 Tue Feb 14 12:06:17 2023\n",
            "test1 1 printing 6 Tue Feb 14 12:06:18 2023\n",
            "test1 2 printing 6 Tue Feb 14 12:06:18 2023\n",
            "test1 0 printing 6 Tue Feb 14 12:06:18 2023\n",
            "test1 1 printing 7 Tue Feb 14 12:06:19 2023\n",
            "test1 2 printing 7 Tue Feb 14 12:06:19 2023\n",
            "test1 0 printing 7 Tue Feb 14 12:06:19 2023\n",
            "test1 1 printing 8 Tue Feb 14 12:06:20 2023\n",
            "test1 2 printing 8 Tue Feb 14 12:06:20 2023\n",
            "test1 0 printing 8 Tue Feb 14 12:06:20 2023\n",
            "test1 1 printing 9 Tue Feb 14 12:06:21 2023\n",
            "test1 2 printing 9 Tue Feb 14 12:06:21 2023\n",
            "test1 0 printing 9 Tue Feb 14 12:06:21 2023\n"
          ]
        }
      ],
      "source": [
        "for t in thread1:\n",
        "    t.start()"
      ]
    },
    {
      "cell_type": "code",
      "execution_count": null,
      "id": "aef2cd10-ec7e-474e-87f9-c085119ec98e",
      "metadata": {
        "id": "aef2cd10-ec7e-474e-87f9-c085119ec98e"
      },
      "outputs": [],
      "source": [
        "shared_var = 0\n",
        "lock_var = threading.Lock()"
      ]
    },
    {
      "cell_type": "code",
      "execution_count": null,
      "id": "b80065b1-7239-47ec-93f1-cf95bb1a38ac",
      "metadata": {
        "id": "b80065b1-7239-47ec-93f1-cf95bb1a38ac",
        "outputId": "a06b558e-3fd8-4ff5-d700-563bebdf797b"
      },
      "outputs": [
        {
          "name": "stdout",
          "output_type": "stream",
          "text": [
            "test2 is 0 has increased the shared variable by 1 \n",
            "test2 is 1 has increased the shared variable by 2 \n",
            "test2 is 2 has increased the shared variable by 3 \n"
          ]
        }
      ],
      "source": [
        "shared_var = 0\n",
        "lock_var = threading.Lock()\n",
        "def test2(id) : \n",
        "    global shared_var\n",
        "    with lock_var:\n",
        "        shared_var = shared_var+1\n",
        "        print(\"test2 is %d has increased the shared variable by %d \" % (id ,shared_var) )\n",
        "        time.sleep(1)\n",
        "ther3 = [threading.Thread(target=test2 , args = (i,) ) for i in range(3)]    \n",
        "for t in ther3:\n",
        "    t.start()"
      ]
    },
    {
      "cell_type": "code",
      "execution_count": null,
      "id": "1f62ed5f-dd3b-4fe5-ad29-bd68a78d0bd2",
      "metadata": {
        "id": "1f62ed5f-dd3b-4fe5-ad29-bd68a78d0bd2",
        "outputId": "2c8a6aba-ecd2-4a7e-dfb1-61f0f7cfdd52"
      },
      "outputs": [
        {
          "name": "stdout",
          "output_type": "stream",
          "text": [
            "test2 is 0 has increased the shared variable by 1 \n",
            "test2 is 1 has increased the shared variable by 2 \n",
            "test2 is 2 has increased the shared variable by 3 \n"
          ]
        }
      ],
      "source": [
        "shared_var = 0\n",
        "#lock_var = threading.Lock()\n",
        "def test2(id) : \n",
        "    global shared_var\n",
        "    #with lock_var:\n",
        "    shared_var = shared_var+1\n",
        "    print(\"test2 is %d has increased the shared variable by %d \" % (id ,shared_var) )\n",
        "    time.sleep(1)\n",
        "    \n",
        "ther4 = [threading.Thread(target=test2 , args = (i,) ) for i in range(3)]    \n",
        "for t in ther4:\n",
        "    t.start()"
      ]
    },
    {
      "cell_type": "code",
      "execution_count": null,
      "id": "bd541d85-20fc-43a3-8429-ca0be2b318d0",
      "metadata": {
        "id": "bd541d85-20fc-43a3-8429-ca0be2b318d0",
        "outputId": "6226018b-0d26-4fb0-d6a9-25d4ce44e772"
      },
      "outputs": [
        {
          "name": "stdout",
          "output_type": "stream",
          "text": [
            "test2 id is 0 has increased the shared variable by 1 \n"
          ]
        }
      ],
      "source": [
        "test2(0)"
      ]
    },
    {
      "cell_type": "code",
      "execution_count": null,
      "id": "6a153b43-a970-431d-b5f5-5b90afdc40d7",
      "metadata": {
        "id": "6a153b43-a970-431d-b5f5-5b90afdc40d7",
        "outputId": "5a908827-0b49-4f14-c20b-3fcc416fb3e5"
      },
      "outputs": [
        {
          "data": {
            "text/plain": [
              "1"
            ]
          },
          "execution_count": 60,
          "metadata": {},
          "output_type": "execute_result"
        }
      ],
      "source": [
        "shared_var"
      ]
    },
    {
      "cell_type": "code",
      "execution_count": null,
      "id": "c6f9a966-0f87-496c-8ebc-515a39551717",
      "metadata": {
        "id": "c6f9a966-0f87-496c-8ebc-515a39551717"
      },
      "outputs": [],
      "source": []
    }
  ],
  "metadata": {
    "kernelspec": {
      "display_name": "Python 3 (ipykernel)",
      "language": "python",
      "name": "python3"
    },
    "language_info": {
      "codemirror_mode": {
        "name": "ipython",
        "version": 3
      },
      "file_extension": ".py",
      "mimetype": "text/x-python",
      "name": "python",
      "nbconvert_exporter": "python",
      "pygments_lexer": "ipython3",
      "version": "3.10.8"
    },
    "colab": {
      "provenance": []
    }
  },
  "nbformat": 4,
  "nbformat_minor": 5
}
